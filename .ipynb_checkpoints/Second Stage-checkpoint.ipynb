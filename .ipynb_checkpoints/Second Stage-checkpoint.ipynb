{
 "cells": [
  {
   "cell_type": "markdown",
   "metadata": {},
   "source": [
    "## Второй этап"
   ]
  },
  {
   "cell_type": "markdown",
   "metadata": {},
   "source": [
    "Теперь нам известна эволюционно устойчивая стратегия поведения $x=A+Bcos(2\\cdot\\pi t)$\n",
    "$$A=-85, B=-50$$\n",
    "Составим вектор вертикальны\n",
    "$$x^*=(x(0), x(\\frac{t}{n}), x(\\frac{2t}{n}),...,x(\\frac{nt}{n}))$$\n",
    "$$t\\in(0,1)$$"
   ]
  },
  {
   "cell_type": "code",
   "execution_count": 7,
   "metadata": {},
   "outputs": [],
   "source": [
    "import numpy as np\n",
    "\n",
    "A = -85\n",
    "B = -50\n",
    "\n",
    "def x(t):\n",
    "    return A+B*np.cos(2*np.pi*t)\n",
    "n=20\n",
    "\n",
    "x_star = [x(t) for t in np.arange(0,1+1/n,1/n)]"
   ]
  },
  {
   "cell_type": "markdown",
   "metadata": {},
   "source": []
  }
 ],
 "metadata": {
  "kernelspec": {
   "display_name": "Python 3",
   "language": "python",
   "name": "python3"
  },
  "language_info": {
   "codemirror_mode": {
    "name": "ipython",
    "version": 3
   },
   "file_extension": ".py",
   "mimetype": "text/x-python",
   "name": "python",
   "nbconvert_exporter": "python",
   "pygments_lexer": "ipython3",
   "version": "3.7.6"
  }
 },
 "nbformat": 4,
 "nbformat_minor": 4
}
