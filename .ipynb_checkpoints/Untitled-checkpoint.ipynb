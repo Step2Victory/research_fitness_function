{
 "cells": [
  {
   "cell_type": "markdown",
   "metadata": {},
   "source": [
    "# Идентификация функции приспособленности с использованием нейронных сетей"
   ]
  },
  {
   "cell_type": "markdown",
   "metadata": {},
   "source": [
    "### План проекта"
   ]
  },
  {
   "cell_type": "markdown",
   "metadata": {},
   "source": [
    "**To Do**"
   ]
  },
  {
   "cell_type": "markdown",
   "metadata": {},
   "source": []
  },
  {
   "cell_type": "markdown",
   "metadata": {},
   "source": []
  },
  {
   "cell_type": "markdown",
   "metadata": {},
   "source": [
    "Роврвоы $x^i$\n",
    "$$\n",
    "R = \\int\\limits_0^1 \\alpha E(x)\\,dt - \\int\\limits_0^1 \\beta (x')^2\\,dt + \\int\\limits_0^1 \\gamma S_x(x) (cos(2\\pi t) + 1)\\,dt  - \\int\\limits_0^1 \\delta G(x)\\,dt \n",
    "$$\n",
    "$$\n",
    "M_1 = \\int\\limits_0^1 E(x)\\,dt = \\int\\limits_0^1 \\delta_1(x+C)\\,dt \\\\\n",
    "M_2 =  - \\int\\limits_0^1 S_x(x) (cos(2\\pi t) + 1)\\,dt = - \\int\\limits_0^1  \\delta_2(x+C)(cos(2\\pi t) + 1)\\,dt \\\\\n",
    "M_3 = -\\int\\limits_0^1 (x')^2\\,dt \\\\\n",
    "M_4 = -\\int\\limits_0^1 G(x)\\,dt = - \\int\\limits_0^1 (x + C_0)^2\\,dt \\\\\n",
    "$$"
   ]
  },
  {
   "cell_type": "markdown",
   "metadata": {},
   "source": [
    "$ x = A + Bcos(2\\pi t);$  $-C < x < 0$, где $C > 0 => -C < A + Bcos(2\\pi t) < 0 $ \n",
    "Очевидно $A < 0$, $A - |B| > -C; A + |B| < 0$\n",
    "\n",
    "$$\n",
    "M_1 = \\delta_1 (A+C) \\\\\n",
    "M_2 = -\\delta_2 (A + C + \\frac{B}{2}) \\\\\n",
    "M_3 = -\\frac{(2\\pi)^2 B^2}{2}\\\\\n",
    "M_4 = -((A + C_0)^2 + \\frac{B^2}{2})\n",
    "$$"
   ]
  },
  {
   "cell_type": "markdown",
   "metadata": {},
   "source": [
    "$$\n",
    "\\lambda_0 = \\delta_1 \\alpha = 0.1 \\\\\n",
    "\\lambda_1 = -\\delta_2 \\gamma = -1 \\\\\n",
    "\\lambda_2 = -\\delta = -0.1 \\\\\n",
    "\\lambda_3 = -\\beta = -0.000025\n",
    "$$\n",
    "$$R = \\lambda_0  (A + C) + \\lambda_1  (A + C + \\frac{B}{2}) +  \\lambda_2  \\frac{(2\\pi)^2 B^2}{2} + \\lambda_3  ((A + C_0)^2 + \\frac{B^2}{2}) = \\lambda_0 F_0 + \\lambda_1 F_1 + \\lambda_2 F_2 + \\lambda_3 F_3$$"
   ]
  },
  {
   "cell_type": "markdown",
   "metadata": {},
   "source": [
    "### Генерация обучающей выборки"
   ]
  },
  {
   "cell_type": "markdown",
   "metadata": {},
   "source": [
    "Зададим коэффициенты $\\lambda$ и опишем функцию $R$"
   ]
  },
  {
   "cell_type": "code",
   "execution_count": 61,
   "metadata": {},
   "outputs": [],
   "source": [
    "a = []\n",
    "lam = [0.0003, -0.003, -0.0003, -0.000000075]\n",
    "C0 = 60\n",
    "C = 140"
   ]
  },
  {
   "cell_type": "markdown",
   "metadata": {},
   "source": [
    "Напишем функции $F_0, F_1, F_2, F_3$"
   ]
  },
  {
   "cell_type": "code",
   "execution_count": 62,
   "metadata": {},
   "outputs": [],
   "source": [
    "import numpy as np\n",
    "\n",
    "def F0(A, B, C, C0):\n",
    "    return A + C\n",
    "\n",
    "def F1(A, B, C, C0):\n",
    "    return A + C + B / 2\n",
    "\n",
    "def F2(A, B, C, C0):\n",
    "    return -2 * (np.pi) * (np.pi) * B * B / 2\n",
    "\n",
    "def F3(A, B, C, C0):\n",
    "    return (A + C0) * (A + C0) + B * B / 2\n",
    "\n",
    "def F(A, B, C, C0):\n",
    "    u = (A, B, C, C0)\n",
    "    return F0(*u), F1(*u), F2(*u), F3(*u)"
   ]
  },
  {
   "cell_type": "markdown",
   "metadata": {},
   "source": [
    "Теперь напишем функцию активации и нейрон (функцию фитнеса)"
   ]
  },
  {
   "cell_type": "code",
   "execution_count": 63,
   "metadata": {},
   "outputs": [],
   "source": [
    "def activation_func(x):\n",
    "    return 1/(1 + np.exp(-x))\n",
    "\n",
    "def fitness(A, B, C, C0):\n",
    "    a = (A, B, C, C0)\n",
    "    return activation_func(np.dot(F(*a), lam))"
   ]
  },
  {
   "cell_type": "markdown",
   "metadata": {},
   "source": [
    "Теперь попробуем сгенерировать обучающую выборку ($A, B, C, C_0$), учтем условия ($A < 0$, $A - |B| > -C; A + |B| < 0$). N - число необходимых объектов"
   ]
  },
  {
   "cell_type": "code",
   "execution_count": 64,
   "metadata": {},
   "outputs": [
    {
     "data": {
      "text/html": [
       "<div>\n",
       "<style scoped>\n",
       "    .dataframe tbody tr th:only-of-type {\n",
       "        vertical-align: middle;\n",
       "    }\n",
       "\n",
       "    .dataframe tbody tr th {\n",
       "        vertical-align: top;\n",
       "    }\n",
       "\n",
       "    .dataframe thead th {\n",
       "        text-align: right;\n",
       "    }\n",
       "</style>\n",
       "<table border=\"1\" class=\"dataframe\">\n",
       "  <thead>\n",
       "    <tr style=\"text-align: right;\">\n",
       "      <th></th>\n",
       "      <th>A</th>\n",
       "      <th>B</th>\n",
       "      <th>C</th>\n",
       "      <th>C0</th>\n",
       "    </tr>\n",
       "  </thead>\n",
       "  <tbody>\n",
       "    <tr>\n",
       "      <th>0</th>\n",
       "      <td>-94.16</td>\n",
       "      <td>9.46</td>\n",
       "      <td>140</td>\n",
       "      <td>60</td>\n",
       "    </tr>\n",
       "    <tr>\n",
       "      <th>1</th>\n",
       "      <td>-18.15</td>\n",
       "      <td>7.42</td>\n",
       "      <td>140</td>\n",
       "      <td>60</td>\n",
       "    </tr>\n",
       "    <tr>\n",
       "      <th>2</th>\n",
       "      <td>-28.82</td>\n",
       "      <td>10.89</td>\n",
       "      <td>140</td>\n",
       "      <td>60</td>\n",
       "    </tr>\n",
       "    <tr>\n",
       "      <th>3</th>\n",
       "      <td>-42.83</td>\n",
       "      <td>-19.04</td>\n",
       "      <td>140</td>\n",
       "      <td>60</td>\n",
       "    </tr>\n",
       "    <tr>\n",
       "      <th>4</th>\n",
       "      <td>-1.91</td>\n",
       "      <td>-0.40</td>\n",
       "      <td>140</td>\n",
       "      <td>60</td>\n",
       "    </tr>\n",
       "  </tbody>\n",
       "</table>\n",
       "</div>"
      ],
      "text/plain": [
       "       A      B    C  C0\n",
       "0 -94.16   9.46  140  60\n",
       "1 -18.15   7.42  140  60\n",
       "2 -28.82  10.89  140  60\n",
       "3 -42.83 -19.04  140  60\n",
       "4  -1.91  -0.40  140  60"
      ]
     },
     "execution_count": 64,
     "metadata": {},
     "output_type": "execute_result"
    }
   ],
   "source": [
    "from random import randint\n",
    "import pandas as pd\n",
    "\n",
    "def gen_AB():\n",
    "    A = randint(-C * 100, 0)\n",
    "    B = (-1) ** randint(0, 2) * randint(0, min(-A, A + C * 100))\n",
    "    return A / 100, B / 100\n",
    "\n",
    "def get_data_train(N):\n",
    "    train_arr = []\n",
    "    for i in range(N):\n",
    "        a = gen_AB()\n",
    "        while a in train_arr:\n",
    "            a = gen_AB()\n",
    "        train_arr.append(a)\n",
    "    data = pd.DataFrame(columns=['A', 'B'], data = train_arr)\n",
    "    data['C'] = C\n",
    "    data['C0'] = C0\n",
    "    return data\n",
    "\n",
    "train_data = get_data_train(100)\n",
    "train_data.head()   "
   ]
  },
  {
   "cell_type": "markdown",
   "metadata": {},
   "source": [
    "Итак, наша обучающая выборка `train_data` сформирована"
   ]
  },
  {
   "cell_type": "markdown",
   "metadata": {},
   "source": [
    "Перед нами стоит задача ранжирования. Сведем её к задаче классификации. Посчитаем функцию фитнеса для каждого объекта и проведем классификацию: если $u, v$ - объекты выборки, то определим класс $y(u, v) = sgn(F(u) - F(v))$ для пары объекта $(u, v)$, а параметрами будут являться $F_0(u) - F_0(v), F_1(u) - F_1(v), F_2(u) - F_2(v), F_3(u) - F_3(v)$. Получаем разбиение на два класса для каждой пары объектов."
   ]
  },
  {
   "cell_type": "code",
   "execution_count": 65,
   "metadata": {},
   "outputs": [
    {
     "data": {
      "text/html": [
       "<div>\n",
       "<style scoped>\n",
       "    .dataframe tbody tr th:only-of-type {\n",
       "        vertical-align: middle;\n",
       "    }\n",
       "\n",
       "    .dataframe tbody tr th {\n",
       "        vertical-align: top;\n",
       "    }\n",
       "\n",
       "    .dataframe thead th {\n",
       "        text-align: right;\n",
       "    }\n",
       "</style>\n",
       "<table border=\"1\" class=\"dataframe\">\n",
       "  <thead>\n",
       "    <tr style=\"text-align: right;\">\n",
       "      <th></th>\n",
       "      <th>F_0</th>\n",
       "      <th>F_1</th>\n",
       "      <th>F_2</th>\n",
       "      <th>F_3</th>\n",
       "      <th>y</th>\n",
       "    </tr>\n",
       "  </thead>\n",
       "  <tbody>\n",
       "    <tr>\n",
       "      <th>0</th>\n",
       "      <td>-76.01</td>\n",
       "      <td>-74.990</td>\n",
       "      <td>-339.861801</td>\n",
       "      <td>-567.29930</td>\n",
       "      <td>1.0</td>\n",
       "    </tr>\n",
       "    <tr>\n",
       "      <th>1</th>\n",
       "      <td>-65.34</td>\n",
       "      <td>-66.055</td>\n",
       "      <td>287.210423</td>\n",
       "      <td>180.16295</td>\n",
       "      <td>1.0</td>\n",
       "    </tr>\n",
       "    <tr>\n",
       "      <th>2</th>\n",
       "      <td>-51.33</td>\n",
       "      <td>-37.080</td>\n",
       "      <td>2694.698090</td>\n",
       "      <td>735.58170</td>\n",
       "      <td>-1.0</td>\n",
       "    </tr>\n",
       "    <tr>\n",
       "      <th>3</th>\n",
       "      <td>-92.25</td>\n",
       "      <td>-87.320</td>\n",
       "      <td>-881.667553</td>\n",
       "      <td>-2162.87670</td>\n",
       "      <td>1.0</td>\n",
       "    </tr>\n",
       "    <tr>\n",
       "      <th>4</th>\n",
       "      <td>-32.29</td>\n",
       "      <td>-7.805</td>\n",
       "      <td>14523.601552</td>\n",
       "      <td>427.63445</td>\n",
       "      <td>-1.0</td>\n",
       "    </tr>\n",
       "    <tr>\n",
       "      <th>...</th>\n",
       "      <td>...</td>\n",
       "      <td>...</td>\n",
       "      <td>...</td>\n",
       "      <td>...</td>\n",
       "      <td>...</td>\n",
       "    </tr>\n",
       "    <tr>\n",
       "      <th>4945</th>\n",
       "      <td>93.26</td>\n",
       "      <td>86.405</td>\n",
       "      <td>-5708.824939</td>\n",
       "      <td>-2980.48315</td>\n",
       "      <td>1.0</td>\n",
       "    </tr>\n",
       "    <tr>\n",
       "      <th>4946</th>\n",
       "      <td>0.72</td>\n",
       "      <td>-7.065</td>\n",
       "      <td>-6197.500635</td>\n",
       "      <td>355.35465</td>\n",
       "      <td>1.0</td>\n",
       "    </tr>\n",
       "    <tr>\n",
       "      <th>4947</th>\n",
       "      <td>16.35</td>\n",
       "      <td>39.280</td>\n",
       "      <td>-7866.536605</td>\n",
       "      <td>-1432.18610</td>\n",
       "      <td>1.0</td>\n",
       "    </tr>\n",
       "    <tr>\n",
       "      <th>4948</th>\n",
       "      <td>-76.19</td>\n",
       "      <td>-54.190</td>\n",
       "      <td>-8355.212302</td>\n",
       "      <td>1903.65170</td>\n",
       "      <td>1.0</td>\n",
       "    </tr>\n",
       "    <tr>\n",
       "      <th>4949</th>\n",
       "      <td>-92.54</td>\n",
       "      <td>-93.470</td>\n",
       "      <td>-488.675697</td>\n",
       "      <td>3335.83780</td>\n",
       "      <td>1.0</td>\n",
       "    </tr>\n",
       "  </tbody>\n",
       "</table>\n",
       "<p>4950 rows × 5 columns</p>\n",
       "</div>"
      ],
      "text/plain": [
       "        F_0     F_1           F_2         F_3    y\n",
       "0    -76.01 -74.990   -339.861801  -567.29930  1.0\n",
       "1    -65.34 -66.055    287.210423   180.16295  1.0\n",
       "2    -51.33 -37.080   2694.698090   735.58170 -1.0\n",
       "3    -92.25 -87.320   -881.667553 -2162.87670  1.0\n",
       "4    -32.29  -7.805  14523.601552   427.63445 -1.0\n",
       "...     ...     ...           ...         ...  ...\n",
       "4945  93.26  86.405  -5708.824939 -2980.48315  1.0\n",
       "4946   0.72  -7.065  -6197.500635   355.35465  1.0\n",
       "4947  16.35  39.280  -7866.536605 -1432.18610  1.0\n",
       "4948 -76.19 -54.190  -8355.212302  1903.65170  1.0\n",
       "4949 -92.54 -93.470   -488.675697  3335.83780  1.0\n",
       "\n",
       "[4950 rows x 5 columns]"
      ]
     },
     "execution_count": 65,
     "metadata": {},
     "output_type": "execute_result"
    }
   ],
   "source": [
    "def get_pair(u, v):\n",
    "    F = [F0(*u) - F0(*v), F1(*u) - F1(*v), F2(*u) - F2(*v), F3(*u) - F3(*v), np.sign(fitness(*u) - fitness(*v))]\n",
    "    return F\n",
    "\n",
    "def get_data_train_classifier(train_data):\n",
    "    train_data_arr = []\n",
    "    for i in range(len(train_data)):\n",
    "        for j in range(i + 1, len(train_data)):\n",
    "            F = get_pair(train_data.loc[i], train_data.loc[j])\n",
    "            train_data_arr.append(F)\n",
    "    train_data_classifier = pd.DataFrame(columns=['F_0', 'F_1', 'F_2', 'F_3', 'y'], data=train_data_arr)\n",
    "    return train_data_classifier\n",
    "\n",
    "data_train_classifier = get_data_train_classifier(train_data).query('y != 0')\n",
    "data_train_classifier"
   ]
  },
  {
   "cell_type": "code",
   "execution_count": 66,
   "metadata": {},
   "outputs": [
    {
     "name": "stdout",
     "output_type": "stream",
     "text": [
      "[[-68811.58       -71704.405      -16918.38999879   -676.52155   ]]\n"
     ]
    }
   ],
   "source": [
    "from sklearn.linear_model import Perceptron\n",
    "\n",
    "X = data_train_classifier.drop('y', axis=1)\n",
    "y = data_train_classifier['y']\n",
    "model = Perceptron()\n",
    "model.fit(X, y)\n",
    "print(model.coef_)"
   ]
  },
  {
   "cell_type": "markdown",
   "metadata": {},
   "source": [
    "a = 10"
   ]
  },
  {
   "cell_type": "code",
   "execution_count": null,
   "metadata": {},
   "outputs": [],
   "source": []
  }
 ],
 "metadata": {
  "kernelspec": {
   "display_name": "Python 3",
   "language": "python",
   "name": "python3"
  },
  "language_info": {
   "codemirror_mode": {
    "name": "ipython",
    "version": 3
   },
   "file_extension": ".py",
   "mimetype": "text/x-python",
   "name": "python",
   "nbconvert_exporter": "python",
   "pygments_lexer": "ipython3",
   "version": "3.7.6"
  }
 },
 "nbformat": 4,
 "nbformat_minor": 4
}
