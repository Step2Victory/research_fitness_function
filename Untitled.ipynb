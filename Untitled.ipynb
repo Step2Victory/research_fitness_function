{
 "cells": [
  {
   "cell_type": "markdown",
   "metadata": {},
   "source": [
    "# Идентификация функции приспособленности с использованием нейронных сетей"
   ]
  },
  {
   "cell_type": "markdown",
   "metadata": {},
   "source": [
    "### План проекта"
   ]
  },
  {
   "cell_type": "markdown",
   "metadata": {},
   "source": [
    "**To Do**"
   ]
  },
  {
   "cell_type": "markdown",
   "metadata": {},
   "source": []
  },
  {
   "cell_type": "markdown",
   "metadata": {},
   "source": []
  },
  {
   "cell_type": "markdown",
   "metadata": {},
   "source": [
    "$$\n",
    "R = \\int\\limits_0^1 \\alpha E(x)\\,dt - \\int\\limits_0^1 \\beta (x')^2\\,dt + \\int\\limits_0^1 \\gamma S_x(x) (cos(2\\pi t) + 1)\\,dt  - \\int\\limits_0^1 \\delta G(x)\\,dt \n",
    "$$\n",
    "$$\n",
    "M_1 = \\int\\limits_0^1 E(x)\\,dt = \\int\\limits_0^1 \\delta_1(x+C)\\,dt \\\\\n",
    "M_2 =  - \\int\\limits_0^1 S_x(x) (cos(2\\pi t) + 1)\\,dt = - \\int\\limits_0^1  \\delta_2(x+C)(cos(2\\pi t) + 1)\\,dt \\\\\n",
    "M_3 = -\\int\\limits_0^1 (x')^2\\,dt \\\\\n",
    "M_4 = -\\int\\limits_0^1 G(x)\\,dt = - \\int\\limits_0^1 (x + C_0)^2\\,dt \\\\\n",
    "$$"
   ]
  },
  {
   "cell_type": "markdown",
   "metadata": {},
   "source": [
    "$ x = A + Bcos(2\\pi t);$  $-C < x < 0$, где $C > 0 => -C < A + Bcos(2\\pi t) < 0 $ \n",
    "Очевидно $A < 0$, $A - |B| > -C; A + |B| < 0$\n",
    "\n",
    "$$\n",
    "M_1 = \\delta_1 (A+C) \\\\\n",
    "M_2 = -\\delta_2 (A + C + \\frac{B}{2}) \\\\\n",
    "M_3 = -\\frac{(2\\pi)^2 B^2}{2}\\\\\n",
    "M_4 = -((A + C_0)^2 + \\frac{B^2}{2})\n",
    "$$"
   ]
  },
  {
   "cell_type": "markdown",
   "metadata": {},
   "source": [
    "$$\n",
    "\\lambda_0 = \\delta_1 \\alpha = 0.1 \\\\\n",
    "\\lambda_1 = -\\delta_2 \\gamma = -1 \\\\\n",
    "\\lambda_2 = -\\delta = -0.1 \\\\\n",
    "\\lambda_3 = -\\beta = -0.000025\n",
    "$$\n",
    "$$R = \\lambda_0  (A + C) + \\lambda_1  (A + C + \\frac{B}{2}) +  \\lambda_2  \\frac{(2\\pi)^2 B^2}{2} + \\lambda_3  ((A + C_0)^2 + \\frac{B^2}{2}) = \\lambda_0 F_0 + \\lambda_1 F_1 + \\lambda_2 F_2 + \\lambda_3 F_3$$"
   ]
  },
  {
   "cell_type": "markdown",
   "metadata": {},
   "source": [
    "### Генерация обучающей выборки"
   ]
  },
  {
   "cell_type": "markdown",
   "metadata": {},
   "source": [
    "Зададим коэффициенты $\\lambda$ и опишем функцию $R$"
   ]
  },
  {
   "cell_type": "code",
   "execution_count": 2,
   "metadata": {},
   "outputs": [],
   "source": [
    "lam = [0.1, -1, -0.1, -0.000025]\n",
    "C0 = 60\n",
    "C = 140"
   ]
  },
  {
   "cell_type": "markdown",
   "metadata": {},
   "source": [
    "Напишем функции $F_0, F_1, F_2, F_3$"
   ]
  },
  {
   "cell_type": "code",
   "execution_count": 3,
   "metadata": {},
   "outputs": [],
   "source": [
    "import numpy as np\n",
    "\n",
    "def F0(A, B, C, C0):\n",
    "    return A + C\n",
    "\n",
    "def F1(A, B, C, C0):\n",
    "    return A + C + B / 2\n",
    "\n",
    "def F2(A, B, C, C0):\n",
    "    return -2 * (np.pi) * (np.pi) * B * B / 2\n",
    "\n",
    "def F3(A, B, C, C0):\n",
    "    return (A + C0) * (A + C0) + B * B / 2\n"
   ]
  },
  {
   "cell_type": "markdown",
   "metadata": {},
   "source": [
    "Теперь напишем функцию активации и нейрон (функцию фитнеса)"
   ]
  },
  {
   "cell_type": "code",
   "execution_count": 4,
   "metadata": {},
   "outputs": [],
   "source": [
    "def activation_func(x):\n",
    "    return 1/(1 + np.exp(-x))\n",
    "\n",
    "def fitness(A, B, C, C0):\n",
    "    a = (A, B, C, C0)\n",
    "    return activation_func(np.dot(a, lam))"
   ]
  },
  {
   "cell_type": "markdown",
   "metadata": {},
   "source": [
    "Теперь попробуем сгенерировать обучающую выборку ($A, B, C, C_0$), учтем условия ($A < 0$, $A - |B| > -C; A + |B| < 0$). N - число необходимых объектов"
   ]
  },
  {
   "cell_type": "code",
   "execution_count": 5,
   "metadata": {},
   "outputs": [
    {
     "data": {
      "text/html": [
       "<div>\n",
       "<style scoped>\n",
       "    .dataframe tbody tr th:only-of-type {\n",
       "        vertical-align: middle;\n",
       "    }\n",
       "\n",
       "    .dataframe tbody tr th {\n",
       "        vertical-align: top;\n",
       "    }\n",
       "\n",
       "    .dataframe thead th {\n",
       "        text-align: right;\n",
       "    }\n",
       "</style>\n",
       "<table border=\"1\" class=\"dataframe\">\n",
       "  <thead>\n",
       "    <tr style=\"text-align: right;\">\n",
       "      <th></th>\n",
       "      <th>A</th>\n",
       "      <th>B</th>\n",
       "      <th>C</th>\n",
       "      <th>C0</th>\n",
       "    </tr>\n",
       "  </thead>\n",
       "  <tbody>\n",
       "    <tr>\n",
       "      <th>0</th>\n",
       "      <td>-115.52</td>\n",
       "      <td>9.06</td>\n",
       "      <td>140</td>\n",
       "      <td>60</td>\n",
       "    </tr>\n",
       "    <tr>\n",
       "      <th>1</th>\n",
       "      <td>-75.84</td>\n",
       "      <td>41.48</td>\n",
       "      <td>140</td>\n",
       "      <td>60</td>\n",
       "    </tr>\n",
       "    <tr>\n",
       "      <th>2</th>\n",
       "      <td>-30.49</td>\n",
       "      <td>-21.55</td>\n",
       "      <td>140</td>\n",
       "      <td>60</td>\n",
       "    </tr>\n",
       "    <tr>\n",
       "      <th>3</th>\n",
       "      <td>-1.47</td>\n",
       "      <td>99.39</td>\n",
       "      <td>140</td>\n",
       "      <td>60</td>\n",
       "    </tr>\n",
       "    <tr>\n",
       "      <th>4</th>\n",
       "      <td>-23.48</td>\n",
       "      <td>11.99</td>\n",
       "      <td>140</td>\n",
       "      <td>60</td>\n",
       "    </tr>\n",
       "  </tbody>\n",
       "</table>\n",
       "</div>"
      ],
      "text/plain": [
       "        A      B    C  C0\n",
       "0 -115.52   9.06  140  60\n",
       "1  -75.84  41.48  140  60\n",
       "2  -30.49 -21.55  140  60\n",
       "3   -1.47  99.39  140  60\n",
       "4  -23.48  11.99  140  60"
      ]
     },
     "execution_count": 5,
     "metadata": {},
     "output_type": "execute_result"
    }
   ],
   "source": [
    "from random import randint\n",
    "import pandas as pd\n",
    "\n",
    "def gen_AB():\n",
    "    A = randint(-C * 100, 0)\n",
    "    B = (-1) ** randint(0, 2) * randint(0, min(-A * 100, (A + C * 100)))\n",
    "    return A / 100, B / 100\n",
    "\n",
    "def get_data_train(N):\n",
    "    train_arr = []\n",
    "    for i in range(N):\n",
    "        a = gen_AB()\n",
    "        while a in train_arr:\n",
    "            a = gen_AB()\n",
    "        train_arr.append(a)\n",
    "    data = pd.DataFrame(columns=['A', 'B'], data = train_arr)\n",
    "    data['C'] = C\n",
    "    data['C0'] = C0\n",
    "    return data\n",
    "\n",
    "train_data = get_data_train(100)\n",
    "train_data.head()   "
   ]
  },
  {
   "cell_type": "markdown",
   "metadata": {},
   "source": [
    "Итак, наша обучающая выборка `train_data` сформирована"
   ]
  },
  {
   "cell_type": "markdown",
   "metadata": {},
   "source": [
    "Перед нами стоит задача ранжирования. Сведем её к задаче классификации. Посчитаем функцию фитнеса для каждого объекта и проведем классификацию: если $u, v$ - объекты выборки, то определим класс $y(u, v) = sgn(F(u) - F(v))$ для пары объекта $(u, v)$, а параметрами будут являться $F_0(u) - F_0(v), F_1(u) - F_1(v), F_2(u) - F_2(v), F_3(u) - F_3(v)$. Получаем разбиение на два класса для каждой пары объектов."
   ]
  },
  {
   "cell_type": "code",
   "execution_count": 6,
   "metadata": {},
   "outputs": [
    {
     "name": "stdout",
     "output_type": "stream",
     "text": [
      "Empty DataFrame\n",
      "Columns: [F_0, F_1, F_2, F_3, y]\n",
      "Index: []\n"
     ]
    }
   ],
   "source": [
    "def get_pair(u, v):\n",
    "    F = [F0(*u) - F0(*v), F1(*u) - F1(*v), F2(*u) - F2(*v), F3(*u) - F3(*v), np.sign(fitness(*u) - fitness(*v))]\n",
    "    return F\n",
    "\n",
    "def get_data_train_classifier(train_data):\n",
    "    train_data_arr = []\n",
    "    for i in range(len(train_data)):\n",
    "        for j in range(i + 1, len(train_data)):\n",
    "            F = get_pair(train_data.loc[i], train_data.loc[j])\n",
    "            train_data_arr.append(F)\n",
    "    train_data_classifier = pd.DataFrame(columns=['F_0', 'F_1', 'F_2', 'F_3', 'y'])\n",
    "    return train_data_classifier\n",
    "\n",
    "print(get_data_train_classifier(train_data))                "
   ]
  },
  {
   "cell_type": "code",
   "execution_count": null,
   "metadata": {},
   "outputs": [],
   "source": []
  }
 ],
 "metadata": {
  "kernelspec": {
   "display_name": "Python 3",
   "language": "python",
   "name": "python3"
  },
  "language_info": {
   "codemirror_mode": {
    "name": "ipython",
    "version": 3
   },
   "file_extension": ".py",
   "mimetype": "text/x-python",
   "name": "python",
   "nbconvert_exporter": "python",
   "pygments_lexer": "ipython3",
   "version": "3.7.6"
  }
 },
 "nbformat": 4,
 "nbformat_minor": 4
}
